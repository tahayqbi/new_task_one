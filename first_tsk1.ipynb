{
 "cells": [
  {
   "cell_type": "markdown",
   "id": "7825144f",
   "metadata": {},
   "source": [
    "## exercise 1"
   ]
  },
  {
   "cell_type": "markdown",
   "id": "2d0deb84",
   "metadata": {},
   "source": [
    "Write a python program to detect integer items in a list of string items, cast them into int, and print/return them out."
   ]
  },
  {
   "cell_type": "code",
   "execution_count": 1,
   "id": "4b7d74b1",
   "metadata": {},
   "outputs": [
    {
     "name": "stdout",
     "output_type": "stream",
     "text": [
      "1\n",
      "3\n",
      "9\n"
     ]
    }
   ],
   "source": [
    "onelst = ['1','3','9','12.2','12k82']\n",
    "\n",
    "\n",
    "for x in (onelst):\n",
    "    try:\n",
    "        print(int(x))\n",
    "    except ValueError:\n",
    "        continue\n"
   ]
  },
  {
   "cell_type": "markdown",
   "id": "0af17c75",
   "metadata": {},
   "source": [
    "## exercise2"
   ]
  },
  {
   "cell_type": "markdown",
   "id": "bcf4ccb9",
   "metadata": {},
   "source": [
    "Write a python program to print all even numbers from a given list of numbers in the same order."
   ]
  },
  {
   "cell_type": "code",
   "execution_count": 2,
   "id": "dfbb9b13",
   "metadata": {},
   "outputs": [
    {
     "name": "stdout",
     "output_type": "stream",
     "text": [
      "386\n",
      "234\n",
      "462\n",
      "418\n",
      "344\n",
      "236\n",
      "566\n",
      "978\n",
      "328\n",
      "162\n"
     ]
    }
   ],
   "source": [
    "taha_list = [386,234,462,47,418,907,344,236,375,343,897,823,566,597,978,328,615,953,345,399,162]\n",
    "\n",
    "\n",
    "for x in (taha_list):\n",
    "    i = x%2\n",
    "    if i == 0:\n",
    "        print(x)\n",
    "    else :\n",
    "        continue"
   ]
  },
  {
   "cell_type": "markdown",
   "id": "90835d53",
   "metadata": {},
   "source": [
    "## exercise3"
   ]
  },
  {
   "cell_type": "markdown",
   "id": "60a9b7d4",
   "metadata": {},
   "source": [
    "Write a python program to sum two given integers. If the sum is within the range of 15 to 20, it returns 20. Otherwise it returns/prints the sum."
   ]
  },
  {
   "cell_type": "code",
   "execution_count": 13,
   "id": "faa3aa73",
   "metadata": {},
   "outputs": [
    {
     "name": "stdout",
     "output_type": "stream",
     "text": [
      "please enter a:18\n",
      "please enter b:58\n",
      "76\n"
     ]
    }
   ],
   "source": [
    "a = int(input(\"please enter a:\"))\n",
    "b = int(input(\"please enter b:\"))\n",
    "\n",
    "\n",
    "response = a + b\n",
    "if response >= 15 and response <= 20:\n",
    "    print(20)\n",
    "else:\n",
    "    print (response)"
   ]
  },
  {
   "cell_type": "markdown",
   "id": "e48a2796",
   "metadata": {},
   "source": [
    "## exercise4"
   ]
  },
  {
   "cell_type": "markdown",
   "id": "401a7213",
   "metadata": {},
   "source": [
    "Write a Python program to count the members of a list and print them."
   ]
  },
  {
   "cell_type": "code",
   "execution_count": 9,
   "id": "1da2f819",
   "metadata": {},
   "outputs": [
    {
     "name": "stdout",
     "output_type": "stream",
     "text": [
      "9 >>> 6\n",
      "3 >>> 1\n",
      "red >>> 2\n",
      "5 >>> 2\n"
     ]
    }
   ],
   "source": [
    "taha_list = ['9', '9', '3', 'red', '9', 'red', '9', '5', '5', '9', '9']\n",
    "nlist = []\n",
    "for x in (taha_list):\n",
    "    if x not in nlist:\n",
    "        nlist.append(x)\n",
    "\n",
    "\n",
    "for x in (nlist):\n",
    "    b = 0\n",
    "    for i in (taha_list):\n",
    "        if i == x:\n",
    "            b = b + 1\n",
    "    print(x, '>>>', b)   \n",
    "    "
   ]
  },
  {
   "cell_type": "markdown",
   "id": "5e237820",
   "metadata": {},
   "source": [
    "## exercise5"
   ]
  },
  {
   "cell_type": "markdown",
   "id": "5a78e4d6",
   "metadata": {},
   "source": [
    "Make a two-player Rock-Paper-Scissors game.\n",
    "Ask players to play and get their stands by calling the input function two times(each time for each player),\n",
    "compare the two inputs,\n",
    "print out a message of congratulation to the winner,\n",
    "and ask whether the players want to play a new round.\n",
    "If player returns y or yes, it mean they want to play another round.\n",
    "Otherwise, break the loop and exit the code with an appropriate goodbye message!"
   ]
  },
  {
   "cell_type": "code",
   "execution_count": 14,
   "id": "5e5a40da",
   "metadata": {
    "scrolled": true
   },
   "outputs": [
    {
     "name": "stdout",
     "output_type": "stream",
     "text": [
      "please enter the quorum:2\n",
      "player 1----> Please enter the desired element (from rock-paper-scissors):paper\n",
      "Player 2----> Please enter the desired element (from rock-paper-scissors):rock\n",
      "user A won this round! result= 1 -- 0\n",
      "player 1----> Please enter the desired element (from rock-paper-scissors):paper\n",
      "Player 2----> Please enter the desired element (from rock-paper-scissors):rock\n",
      "user A won this round! result= 2 -- 0\n",
      "user A win the match! result= 2 -- 0 \n",
      " Tnx...!\n"
     ]
    }
   ],
   "source": [
    "game = {\"rock\":1, \"paper\":2, \"scissors\":3}\n",
    "\n",
    "quorum = int(input(\"please enter the quorum:\"))\n",
    "\n",
    "player1 = 0\n",
    "player2 = 0\n",
    "i = True\n",
    "\n",
    "while i:\n",
    "    \n",
    "    user_a = input(\"player 1----> Please enter the desired element (from rock-paper-scissors):\")\n",
    "    \n",
    "    user_a = game[user_a]\n",
    "    \n",
    "    \n",
    "    user_b = input(\"Player 2----> Please enter the desired element (from rock-paper-scissors):\")\n",
    "    \n",
    "    user_b = game[user_b]\n",
    "    \n",
    "\n",
    "    if user_a == user_b:\n",
    "\n",
    "        print(\"equal!\")\n",
    "\n",
    "# user B Won\n",
    "\n",
    "    if user_a == 1 and user_b ==2 or user_a == 3 and user_b == 1 or user_a == 2 and user_b == 3:\n",
    "\n",
    "        player2 = player2 + 1\n",
    "        print(\"user B won this round!\", \"result=\",player1,\"--\",player2)\n",
    "\n",
    "# user A Won\n",
    "\n",
    "    if user_a == 2 and user_b == 1 or user_a == 1 and user_b == 3 or user_a == 3 and user_b == 2:\n",
    "\n",
    "        player1 = player1 + 1\n",
    "        print(\"user A won this round!\", \"result=\",player1,\"--\",player2)\n",
    "    \n",
    "    if quorum == player1 or quorum == player2:\n",
    "        \n",
    "        if player1 > player2:\n",
    "        \n",
    "            print(\"user A win the match!\", \"result=\",player1,\"--\",player2,\"\\n\",\"Tnx...!\")\n",
    "            i = False\n",
    "            \n",
    "        elif player2 > player1:\n",
    "            \n",
    "            print(\"user B win the match!\",\"result=\",player1,\"--\",player2,\"\\n\",\"Tnx...!\")\n",
    "            i = False"
   ]
  },
  {
   "cell_type": "markdown",
   "id": "d0c0ef9b",
   "metadata": {},
   "source": [
    "## exercise6"
   ]
  },
  {
   "cell_type": "markdown",
   "id": "c9b44ecc",
   "metadata": {},
   "source": [
    "Write a program that asks the user how many Fibonnaci numbers to generate and then generates them. Make sure to ask the user to enter the number of numbers in the sequence to generate.(Hint: The Fibonnaci seqence is a sequence of numbers which the next number in the sequence is the sum of the previous two numbers to it. The sequence looks like this: 1, 1, 2, 3, 5, 8, 13, …)"
   ]
  },
  {
   "cell_type": "code",
   "execution_count": 16,
   "id": "c67adfbd",
   "metadata": {},
   "outputs": [
    {
     "name": "stdout",
     "output_type": "stream",
     "text": [
      "Please enter the number of sequence of numbers: 5\n",
      "1\n",
      "1\n",
      "2\n",
      "3\n",
      "5\n",
      "8\n"
     ]
    }
   ],
   "source": [
    "x = int(input(\"Please enter the number of sequence of numbers: \"))\n",
    "\n",
    "tahalst = [1]\n",
    "\n",
    "for i in range (x):\n",
    "    \n",
    "    if len(tahalst) == 1:\n",
    "        \n",
    "        print(tahalst[i])\n",
    "        n = tahalst[i]\n",
    "        print(n)\n",
    "        tahalst.append(n)\n",
    "    \n",
    "    \n",
    "    else:\n",
    "        n = tahalst[i] + tahalst[i-1]\n",
    "        print(n)\n",
    "        tahalst.append(n)\n",
    "        \n",
    "        \n",
    "      "
   ]
  },
  {
   "cell_type": "markdown",
   "id": "3721687d",
   "metadata": {},
   "source": [
    "## exercise7"
   ]
  },
  {
   "cell_type": "markdown",
   "id": "376b293f",
   "metadata": {},
   "source": [
    "Check a pre-defined password with user inputs for 3 times; let them pass if they're correct with less than 3 tries. Inform the user of being blocked if they enter more password incorrectly more than 4 times"
   ]
  },
  {
   "cell_type": "code",
   "execution_count": 18,
   "id": "faef2113",
   "metadata": {},
   "outputs": [
    {
     "name": "stdout",
     "output_type": "stream",
     "text": [
      "please enter the password: 1234\n",
      "correct! welcome...\n"
     ]
    }
   ],
   "source": [
    "one_pass= '1234'\n",
    "\n",
    "i = 3\n",
    "n = 1\n",
    "\n",
    "while n:\n",
    "    en_pass = input(\"please enter the password: \")\n",
    "    if en_pass == one_pass:\n",
    "        print(\"correct! welcome...\")\n",
    "        break\n",
    "        \n",
    "    else :\n",
    "        n = n + 1\n",
    "        if n < 4:\n",
    "            print(\"incorret password! Please try again.\")\n",
    "            print(\"You only have\",4-n,\"more chances to enter the correct password!\")\n",
    "            continue\n",
    "            \n",
    "        else:\n",
    "            print(\"You have had 3 unsuccessful attempts. Your access has been blocked\")\n",
    "            break"
   ]
  }
 ],
 "metadata": {
  "kernelspec": {
   "display_name": "Python 3 (ipykernel)",
   "language": "python",
   "name": "python3"
  },
  "language_info": {
   "codemirror_mode": {
    "name": "ipython",
    "version": 3
   },
   "file_extension": ".py",
   "mimetype": "text/x-python",
   "name": "python",
   "nbconvert_exporter": "python",
   "pygments_lexer": "ipython3",
   "version": "3.9.12"
  }
 },
 "nbformat": 4,
 "nbformat_minor": 5
}
